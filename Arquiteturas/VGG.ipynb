{
  "nbformat": 4,
  "nbformat_minor": 0,
  "metadata": {
    "colab": {
      "provenance": []
    },
    "kernelspec": {
      "name": "python3",
      "display_name": "Python 3"
    },
    "language_info": {
      "name": "python"
    }
  },
  "cells": [
    {
      "cell_type": "code",
      "execution_count": 14,
      "metadata": {
        "id": "JkKiWDFLjUfp"
      },
      "outputs": [],
      "source": [
        "import os\n",
        "import cv2\n",
        "import numpy as np\n",
        "import tensorflow as tf\n",
        "from sklearn.model_selection import train_test_split\n",
        "from tensorflow.keras import layers\n",
        "from tensorflow.keras.models import Sequential\n",
        "from tensorflow.keras.utils import to_categorical\n",
        "from tensorflow.keras.layers import Conv2D, MaxPooling2D, Flatten, Dense"
      ]
    },
    {
      "cell_type": "code",
      "source": [
        "dataset_dir = '/content/drive/MyDrive/Projeto Bimestral/DataSet/Treino'\n",
        "\n",
        "fruits_classes = ['Acai', 'Acerola', 'Ackee', 'Apple', 'Araza', 'Avocado', 'Bael', 'Banana', 'BayBerry', 'BlueBerry']\n",
        "\n",
        "target_size = (224, 224)\n",
        "images = []\n",
        "labels = []\n",
        "\n",
        "for fruit_class in fruits_classes:\n",
        "    class_dir = os.path.join(dataset_dir, fruit_class)\n",
        "    for image_file in os.listdir(class_dir):\n",
        "        image_path = os.path.join(class_dir, image_file)\n",
        "        image = cv2.imread(image_path)\n",
        "        image = cv2.cvtColor(image, cv2.COLOR_BGR2RGB)\n",
        "        image = cv2.resize(image, target_size)\n",
        "        image = image.astype('float32') / 255.0\n",
        "        images.append(image)\n",
        "        labels.append(fruits_classes.index(fruit_class))"
      ],
      "metadata": {
        "id": "z7YeT8Aek36c"
      },
      "execution_count": 2,
      "outputs": []
    },
    {
      "cell_type": "code",
      "source": [
        "images = np.array(images)\n",
        "labels = np.array(labels)\n",
        "\n",
        "train_images, test_images, train_labels, test_labels = train_test_split(images, labels, test_size=0.2, random_state=42)"
      ],
      "metadata": {
        "id": "3S2bqAqWqJjL"
      },
      "execution_count": 3,
      "outputs": []
    },
    {
      "cell_type": "code",
      "source": [
        "num_classes = len(fruits_classes)\n",
        "train_labels = to_categorical(train_labels, num_classes)\n",
        "test_labels = to_categorical(test_labels, num_classes)"
      ],
      "metadata": {
        "id": "Fi_cKgtQqRnM"
      },
      "execution_count": 4,
      "outputs": []
    },
    {
      "cell_type": "code",
      "source": [
        "model = Sequential()\n",
        "model.add(Conv2D(64, (3, 3), activation='relu', input_shape=(target_size[0], target_size[1], 3)))\n",
        "model.add(MaxPooling2D((2, 2)))\n",
        "model.add(Conv2D(128, (3, 3), activation='relu'))\n",
        "model.add(MaxPooling2D((2, 2)))\n",
        "model.add(Conv2D(256, (3, 3), activation='relu'))\n",
        "model.add(MaxPooling2D((2, 2)))\n",
        "model.add(Flatten())\n",
        "model.add(Dense(256, activation='relu'))\n",
        "model.add(Dense(num_classes, activation='softmax'))\n",
        "\n",
        "\n",
        "model.compile(optimizer='adam', loss='categorical_crossentropy', metrics=['accuracy'])\n",
        "\n",
        "model.fit(train_images, train_labels, batch_size=32, epochs=2, validation_data=(test_images, test_labels))"
      ],
      "metadata": {
        "colab": {
          "base_uri": "https://localhost:8080/"
        },
        "id": "l0WLFK7hqXEq",
        "outputId": "5ae7d2b8-3bb6-4ce2-f0e5-5e686f7219fd"
      },
      "execution_count": 6,
      "outputs": [
        {
          "output_type": "stream",
          "name": "stdout",
          "text": [
            "Epoch 1/2\n",
            "71/71 [==============================] - 849s 12s/step - loss: 2.2568 - accuracy: 0.2848 - val_loss: 1.6013 - val_accuracy: 0.4190\n",
            "Epoch 2/2\n",
            "71/71 [==============================] - 843s 12s/step - loss: 1.3888 - accuracy: 0.5062 - val_loss: 1.4464 - val_accuracy: 0.4560\n"
          ]
        },
        {
          "output_type": "execute_result",
          "data": {
            "text/plain": [
              "<keras.callbacks.History at 0x7fc0b86fed10>"
            ]
          },
          "metadata": {},
          "execution_count": 6
        }
      ]
    },
    {
      "cell_type": "code",
      "source": [
        "loss, accuracy = model.evaluate(test_images, test_labels)\n",
        "print('Test Loss:', loss)\n",
        "print('Test Accuracy:', accuracy)\n"
      ],
      "metadata": {
        "colab": {
          "base_uri": "https://localhost:8080/"
        },
        "id": "4PvPcpgF2M8Q",
        "outputId": "da2a2a04-a40a-4166-f395-4da9ab7102b5"
      },
      "execution_count": 7,
      "outputs": [
        {
          "output_type": "stream",
          "name": "stdout",
          "text": [
            "18/18 [==============================] - 54s 3s/step - loss: 1.4464 - accuracy: 0.4560\n",
            "Test Loss: 1.4463659524917603\n",
            "Test Accuracy: 0.4559859037399292\n"
          ]
        }
      ]
    },
    {
      "cell_type": "code",
      "source": [
        "model.save('vgg_model.h5')"
      ],
      "metadata": {
        "id": "3gRlwYgA7YNa"
      },
      "execution_count": 16,
      "outputs": []
    },
    {
      "cell_type": "code",
      "source": [
        "def preprocess_single_image(image, target_size):\n",
        "    image = cv2.cvtColor(image, cv2.COLOR_BGR2RGB)\n",
        "    image = cv2.resize(image, (target_size, target_size))\n",
        "    image = image.astype(\"float32\") / 255.0\n",
        "    return image\n",
        "\n",
        "# Caminho da nova imagem\n",
        "imagem_nova = '/content/drive/MyDrive/Projeto Bimestral/DataSet/imagem_nova/BlueBerry_320.jpg'\n",
        "\n",
        "# Carregar a nova imagem\n",
        "nova_imagem = cv2.imread(imagem_nova)\n",
        "\n",
        "# Dimensão desejada para a imagem\n",
        "target_size = 224\n",
        "\n",
        "# Pré-processar a nova imagem\n",
        "nova_imagem = preprocess_single_image(nova_imagem, target_size)\n",
        "\n",
        "# Expandir as dimensões da imagem para corresponder às dimensões esperadas pelo modelo\n",
        "nova_imagem = np.expand_dims(nova_imagem, axis=0)\n",
        "\n",
        "# Carregar o modelo salvo\n",
        "loaded_model = tf.keras.models.load_model('vgg_model.h5')\n",
        "\n",
        "# Fazer a previsão com o modelo carregado\n",
        "predictions = loaded_model.predict(nova_imagem)\n",
        "predicted_class_index = np.argmax(predictions)\n",
        "predicted_class = fruits_classes[predicted_class_index]\n",
        "\n",
        "print(\"Classe prevista:\", predicted_class)"
      ],
      "metadata": {
        "colab": {
          "base_uri": "https://localhost:8080/"
        },
        "id": "9y9zkLgt22z8",
        "outputId": "6da04460-4789-4d69-c783-22b18124c39e"
      },
      "execution_count": 19,
      "outputs": [
        {
          "output_type": "stream",
          "name": "stdout",
          "text": [
            "1/1 [==============================] - 0s 453ms/step\n",
            "Classe prevista: BlueBerry\n"
          ]
        }
      ]
    }
  ]
}